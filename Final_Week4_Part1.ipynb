{
 "cells": [
  {
   "cell_type": "markdown",
   "metadata": {},
   "source": [
    "<h1>Chenai Attractions Recommender System</h1>\n",
    "\n",
    "<h2>Problem background :</h2>\n",
    "\n",
    "Chennai, on the Bay of Bengal in eastern India, is the capital of the state of Tamil Nadu. The city is home to Fort St. George, built in 1644 and now a museum showcasing the city’s roots as a British military garrison and East India Company trading outpost, when it was called Madras. Religious sites include Kapaleeshwarar Temple, adorned with carved and painted gods, and St. Mary’s, a 17th-century Anglican church. Street food, as in other areas of India, are popular in Chennai, despite the common belief in India that street food is unhealthy. The Idly Sambhar is a popular dish, which is served as breakfast or dinner. \n",
    "<br>\n",
    "<br>\n",
    "\n",
    "<h2>Problem description :</h2>\n",
    "\n",
    "Recommending nearby attractions to the users based on their preference and tastes, we would help customers to find their mst related attractions in the nearby areas. This helps the prblem of finding and exploring inappropriate places.\n",
    "\n",
    "<h3> Business Questions</h3>\n",
    "\n",
    "->How many types of attractions are available  ?<br>\n",
    "\n",
    "->which is the most nearest to me with good rating ?<br>\n",
    "\n",
    "->How many \"similar\" places are available near by me ?<br>\n",
    "\n",
    "->What types of places are present in a particular area ?\n",
    "\n",
    "->where are the similar places present based on a preference to particular food ?\n",
    "\n",
    "->How do different places rank with respect to my preferences ?\n",
    "\n"
   ]
  },
  {
   "cell_type": "code",
   "execution_count": null,
   "metadata": {},
   "outputs": [],
   "source": []
  }
 ],
 "metadata": {
  "kernelspec": {
   "display_name": "Python 3",
   "language": "python",
   "name": "python3"
  },
  "language_info": {
   "codemirror_mode": {
    "name": "ipython",
    "version": 3
   },
   "file_extension": ".py",
   "mimetype": "text/x-python",
   "name": "python",
   "nbconvert_exporter": "python",
   "pygments_lexer": "ipython3",
   "version": "3.6.8"
  }
 },
 "nbformat": 4,
 "nbformat_minor": 2
}
