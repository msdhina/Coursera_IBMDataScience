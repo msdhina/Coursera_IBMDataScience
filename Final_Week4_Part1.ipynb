{
 "cells": [
  {
   "cell_type": "markdown",
   "metadata": {},
   "source": [
    "<h1>Chenai Restaurant Recommender System</h1>\n",
    "\n",
    "<h2>Problem background :</h2>\n",
    "\n",
    "Chennai, on the Bay of Bengal in eastern India, is the capital of the state of Tamil Nadu. The city is home to Fort St. George, built in 1644 and now a museum showcasing the city’s roots as a British military garrison and East India Company trading outpost, when it was called Madras. Religious sites include Kapaleeshwarar Temple, adorned with carved and painted gods, and St. Mary’s, a 17th-century Anglican church. Street food, as in other areas of India, are popular in Chennai, despite the common belief in India that street food is unhealthy. The Idly Sambhar is a popular dish, which is served as breakfast or dinner. \n",
    "<br>\n",
    "<br>\n",
    "\n",
    "<h2>Problem description :</h2>\n",
    "\n",
    "Recommending restuarants to the users based on their preference and tastes, we wuld help customers to find their mst related hotels in the nearby areas. This helps the prblem of finding and exploring inappropriate hotels.\n",
    "\n",
    "<h3> Business Questions</h3>\n",
    "\n",
    "->How many types of foods are available in the restaurant ?<br>\n",
    "\n",
    "->which is the most nearest to me with good rating ?<br>\n",
    "\n",
    "->How many \"similar\" restaurants are available near by me ?<br>\n",
    "\n",
    "->What types of restaurants are present in a particular area ?\n",
    "\n",
    "->where are the similar restaurant present based on a preference to particular food ?\n",
    "\n",
    "->How do different restaurants rank with respect to my preferences ?\n",
    "\n",
    "<h3>Target audience :</h3>\n",
    "\n",
    "Target audiences for this project does not limit to a person who keeps travelling but everyone. People could simply decide to look for a similar restaurant all the time because they are addicted to a specific category of food. People who rarely use restaurants would prefer to have the most rated restaurants nearby them and all this could be easily handed by our recommender system. So target for this project is basically everyone who is exploring different places or similar places.\n",
    "\n",
    "<h2>Success rate :</h2>\n",
    "With restaurants evolving, new food categories emerge, hybrid food starts to be more popular, we need a system that could help us access vast number of food varieties. It is impossible for a person to ask each and everyone about their visit to a particular place and also not everyone remembers everything. On the other hand, Computers are good at remembering things, and with Machine learning to its peak, it high time technology will by our personal guidence and help us personally based on our likes and dislikes. So people would care about this project as their personal assistance and success rate could certainly increase with time."
   ]
  },
  {
   "cell_type": "code",
   "execution_count": null,
   "metadata": {},
   "outputs": [],
   "source": []
  }
 ],
 "metadata": {
  "kernelspec": {
   "display_name": "Python 3",
   "language": "python",
   "name": "python3"
  },
  "language_info": {
   "codemirror_mode": {
    "name": "ipython",
    "version": 3
   },
   "file_extension": ".py",
   "mimetype": "text/x-python",
   "name": "python",
   "nbconvert_exporter": "python",
   "pygments_lexer": "ipython3",
   "version": "3.6.8"
  }
 },
 "nbformat": 4,
 "nbformat_minor": 2
}
